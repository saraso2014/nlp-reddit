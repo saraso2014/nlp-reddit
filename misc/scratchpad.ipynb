{
 "cells": [
  {
   "cell_type": "code",
   "execution_count": 1,
   "metadata": {},
   "outputs": [],
   "source": [
    "def get_comments(subreddit, n_iter):\n",
    "    df_list = []\n",
    "    current_time = 1587081440\n",
    "    for _ in range(n_iter):\n",
    "        res = requests.get(\n",
    "            base_url,\n",
    "            params={\n",
    "                \"subreddit\": subreddit,\n",
    "                \"size\": 1000,\n",
    "                \"lang\": True,\n",
    "                \"before\": current_time\n",
    "            }\n",
    "        )\n",
    "        df = pd.DataFrame(res.json()['data'])\n",
    "        df = df.loc[:, [\"created_utc\", \"body\", \"subreddit\"]]\n",
    "        df_list.append(df)\n",
    "        current_time = df.created_utc.min()\n",
    "    return pd.concat(df_list, axis=0)"
   ]
  },
  {
   "cell_type": "code",
   "execution_count": null,
   "metadata": {},
   "outputs": [],
   "source": []
  }
 ],
 "metadata": {
  "kernelspec": {
   "display_name": "Python 3",
   "language": "python",
   "name": "python3"
  },
  "language_info": {
   "codemirror_mode": {
    "name": "ipython",
    "version": 3
   },
   "file_extension": ".py",
   "mimetype": "text/x-python",
   "name": "python",
   "nbconvert_exporter": "python",
   "pygments_lexer": "ipython3",
   "version": "3.7.6"
  }
 },
 "nbformat": 4,
 "nbformat_minor": 4
}
