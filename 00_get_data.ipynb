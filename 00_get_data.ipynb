{
 "cells": [
  {
   "cell_type": "markdown",
   "metadata": {},
   "source": [
    "## Data Collection (00)\n",
    "\n",
    "**Import Libraries**"
   ]
  },
  {
   "cell_type": "code",
   "execution_count": 1,
   "metadata": {},
   "outputs": [
    {
     "data": {
      "text/plain": [
       "'/Users/sarasoueidan/GA/submissions/projects/project_3_soueidan'"
      ]
     },
     "execution_count": 1,
     "metadata": {},
     "output_type": "execute_result"
    }
   ],
   "source": [
    "pwd"
   ]
  },
  {
   "cell_type": "code",
   "execution_count": null,
   "metadata": {},
   "outputs": [],
   "source": [
    "import pandas as pd\n",
    "import requests\n",
    "import time\n",
    "import datetime\n",
    "import warnings\n",
    "\n",
    "import sys\n",
    "\n",
    "if not sys.warnoptions:\n",
    "    import warnings\n",
    "    warnings.simplefilter(\"ignore\")"
   ]
  },
  {
   "cell_type": "markdown",
   "metadata": {},
   "source": [
    "**Get Data**"
   ]
  },
  {
   "cell_type": "code",
   "execution_count": null,
   "metadata": {},
   "outputs": [],
   "source": [
    "def get_comments(subreddit, n_iter, epoch_right_now): # subreddit name and number of times function should run\n",
    "    \n",
    "    # store base url variable\n",
    "    base_url = 'https://api.pushshift.io/reddit/search/submission/?subreddit='\n",
    "    # instantiate empty list    \n",
    "    df_list = []\n",
    "    # save current epoch, used to iterate in reverse through time\n",
    "    current_time = epoch_right_now\n",
    "    \n",
    "    # set up for loop\n",
    "    for post in range(n_iter):\n",
    "        \n",
    "        \n",
    "        # instantiate get request\n",
    "        res = requests.get(\n",
    "            \n",
    "            # requests.get takes base_url and params\n",
    "            base_url,\n",
    "            # parameters for get request\n",
    "            params={\n",
    "                \n",
    "                # specify subreddit\n",
    "                \"subreddit\": subreddit,\n",
    "                # specify number of posts to pull\n",
    "                \"size\": 1000,   \n",
    "                # ???\n",
    "                \"lang\": True,\n",
    "                # pull everything from current time backward\n",
    "                \"before\": current_time\n",
    "            }\n",
    "        )\n",
    "        \n",
    "        # take data from most recent request, store as df\n",
    "        df = pd.DataFrame(res.json()['data'])\n",
    "        # pull specific columns from dataframe for analysis\n",
    "        df = df.loc[:, ['title',\n",
    "                        'created_utc', \n",
    "                        'selftext',\n",
    "                        'subreddit',\n",
    "                        'id',\n",
    "                        'media_only']]\n",
    "        # apend to empty dataframe list\n",
    "        df_list.append(df)\n",
    "        # set current time counter back to last epoch in recently grabbed df\n",
    "        current_time = df['created_utc'].min()\n",
    "\n",
    "    # return one dataframe for all requests\n",
    "    return pd.concat(df_list, axis=0)\n",
    "\n",
    "# Adapated from Tim Book's Lesson Example"
   ]
  },
  {
   "cell_type": "markdown",
   "metadata": {},
   "source": [
    "**Write to DataFrame**"
   ]
  },
  {
   "cell_type": "code",
   "execution_count": null,
   "metadata": {},
   "outputs": [],
   "source": [
    "# Cooking\n",
    "df_cooking = get_comments('Cooking',100,1587593906)"
   ]
  },
  {
   "cell_type": "code",
   "execution_count": null,
   "metadata": {},
   "outputs": [],
   "source": [
    "# Baking\n",
    "df_baking = get_comments('Baking',100,1587593906)"
   ]
  },
  {
   "cell_type": "markdown",
   "metadata": {},
   "source": [
    "**Save to CSV**"
   ]
  },
  {
   "cell_type": "code",
   "execution_count": null,
   "metadata": {},
   "outputs": [],
   "source": [
    "# Write to DataFrame\n",
    "df_cooking.to_csv('cooking.csv', index=False)"
   ]
  },
  {
   "cell_type": "code",
   "execution_count": null,
   "metadata": {},
   "outputs": [],
   "source": [
    "# Write to DataFrame\n",
    "df_baking.to_csv('baking.csv', index=False)"
   ]
  },
  {
   "cell_type": "markdown",
   "metadata": {},
   "source": [
    "**Notes**\n",
    "\n",
    "- Explore how the request.get(url, params) works: specifically url + subreddit syntax\n",
    "- Research methods of exporting DataFrames with the same name with an appended statement to indicate time generated"
   ]
  }
 ],
 "metadata": {
  "kernelspec": {
   "display_name": "Python 3",
   "language": "python",
   "name": "python3"
  },
  "language_info": {
   "codemirror_mode": {
    "name": "ipython",
    "version": 3
   },
   "file_extension": ".py",
   "mimetype": "text/x-python",
   "name": "python",
   "nbconvert_exporter": "python",
   "pygments_lexer": "ipython3",
   "version": "3.7.6"
  }
 },
 "nbformat": 4,
 "nbformat_minor": 4
}
