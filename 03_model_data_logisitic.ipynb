{
 "cells": [
  {
   "cell_type": "markdown",
   "metadata": {},
   "source": [
    "## Data Modeling (03) : Logistic Regression\n",
    "\n",
    "**Import Libraries**"
   ]
  },
  {
   "cell_type": "code",
   "execution_count": 1,
   "metadata": {},
   "outputs": [],
   "source": [
    "# standards\n",
    "import pandas as pd\n",
    "import numpy as np\n",
    "from pprint import pprint\n",
    "from sara import eda, eda_unique\n",
    "\n",
    "# modeling\n",
    "from sklearn.model_selection import train_test_split, GridSearchCV, RandomizedSearchCV\n",
    "from sklearn.pipeline import Pipeline\n",
    "from sklearn.feature_extraction.text import CountVectorizer, TfidfVectorizer\n",
    "from sklearn.linear_model import LogisticRegression\n",
    "\n",
    "# nlp\n",
    "from nltk.stem import WordNetLemmatizer\n",
    "from nltk.tokenize import RegexpTokenizer\n",
    "from nltk.corpus import stopwords\n",
    "from bs4 import BeautifulSoup\n",
    "import regex as re\n",
    "\n",
    "# viz\n",
    "import seaborn as sns\n",
    "\n",
    "# stop future warnings\n",
    "import sys\n",
    "\n",
    "if not sys.warnoptions:\n",
    "    import warnings\n",
    "    warnings.simplefilter(\"ignore\")"
   ]
  },
  {
   "cell_type": "markdown",
   "metadata": {},
   "source": [
    "**Read in Processed Data**"
   ]
  },
  {
   "cell_type": "code",
   "execution_count": 2,
   "metadata": {},
   "outputs": [
    {
     "name": "stdout",
     "output_type": "stream",
     "text": [
      "(110378, 8)\n"
     ]
    }
   ],
   "source": [
    "df_reddit_process = pd.read_csv('data/reddit_processed.csv')\n",
    "print(df_reddit_process.shape)"
   ]
  },
  {
   "cell_type": "markdown",
   "metadata": {},
   "source": [
    "**Check for NaNs**"
   ]
  },
  {
   "cell_type": "code",
   "execution_count": 3,
   "metadata": {},
   "outputs": [
    {
     "data": {
      "text/plain": [
       "625"
      ]
     },
     "execution_count": 3,
     "metadata": {},
     "output_type": "execute_result"
    }
   ],
   "source": [
    "df_reddit_process['title'].isna().sum()"
   ]
  },
  {
   "cell_type": "markdown",
   "metadata": {},
   "source": [
    "**Drop NaNs**"
   ]
  },
  {
   "cell_type": "code",
   "execution_count": 4,
   "metadata": {},
   "outputs": [],
   "source": [
    "df_reddit_process.dropna(subset=['title'],inplace=True)"
   ]
  },
  {
   "cell_type": "markdown",
   "metadata": {},
   "source": [
    "**Explore Balance of Subreddits**"
   ]
  },
  {
   "cell_type": "code",
   "execution_count": 5,
   "metadata": {},
   "outputs": [
    {
     "data": {
      "text/plain": [
       "1    93393\n",
       "0    16360\n",
       "Name: subreddit, dtype: int64"
      ]
     },
     "execution_count": 5,
     "metadata": {},
     "output_type": "execute_result"
    }
   ],
   "source": [
    "df_reddit_process['subreddit'].value_counts()"
   ]
  },
  {
   "cell_type": "markdown",
   "metadata": {},
   "source": [
    "**Select X and Y Features**"
   ]
  },
  {
   "cell_type": "code",
   "execution_count": 6,
   "metadata": {},
   "outputs": [
    {
     "name": "stdout",
     "output_type": "stream",
     "text": [
      "y nulls:  0\n",
      "X nulls:  0\n"
     ]
    }
   ],
   "source": [
    "X = df_reddit_process['title']\n",
    "y = df_reddit_process['subreddit']\n",
    "\n",
    "print('y nulls: ', y.isna().sum())\n",
    "print('X nulls: ', X.isna().sum())"
   ]
  },
  {
   "cell_type": "markdown",
   "metadata": {},
   "source": [
    "**Train Test Split**"
   ]
  },
  {
   "cell_type": "code",
   "execution_count": 7,
   "metadata": {},
   "outputs": [],
   "source": [
    "X_train, X_test, y_train, y_test = train_test_split(X,\n",
    "                                                    y,\n",
    "                                                    stratify=y,\n",
    "                                                    random_state=42)"
   ]
  },
  {
   "cell_type": "markdown",
   "metadata": {},
   "source": [
    "**NLP MODEL FUCNTION**"
   ]
  },
  {
   "cell_type": "code",
   "execution_count": null,
   "metadata": {},
   "outputs": [],
   "source": [
    "def nlp_model(X_train, X_test, y_train, y_test,\n",
    "              transform, model, params):\n",
    "\n",
    "    # STEP 1: Select Transform\n",
    "    if transform == 'cvec':\n",
    "        nlp_transform = 'cvec', CountVectorizer()\n",
    "    if transform == 'tvec':\n",
    "        nlp_transform = 'tvec', TfidfVectorizer()\n",
    "    else:\n",
    "        pass\n",
    "    \n",
    "    # STEP 2: Select Estimator\n",
    "    if model == 'lr':\n",
    "        nlp_model = 'lr', LogisticRegression()\n",
    "    else:\n",
    "        pass\n",
    "    \n",
    "    # STEP 3: Build Pipeline\n",
    "    pipe = Pipeline([\n",
    "        (nlp_transform),\n",
    "        (nlp_model)\n",
    "    ])\n",
    "    \n",
    "    # STEP 4: Run Model\n",
    "    gs = GridSearchCV(pipe,\n",
    "                      param_grid=params,\n",
    "                      n_jobs=-1,\n",
    "                      cv=5)\n",
    "    gs.fit(X_train,y_train)\n",
    "    train_score = gs.score(X_train,y_train)\n",
    "    test_score = gs.score(X_test,y_test)\n",
    "    model = gs\n",
    "    \n",
    "    # STEP 5: Extract Parameters as Dictionary\n",
    "    best_parameters = gs.best_estimator_.get_params()\n",
    "    param_dict = {}\n",
    "    for param_name in params.keys():\n",
    "        new_param = {\n",
    "            param_name : best_parameters[param_name],\n",
    "        }\n",
    "        param_dict.update(new_param)\n",
    "    \n",
    "    # STEP 6: Extract Coefficients as Dictionary\n",
    "    if model == 'lr':\n",
    "        if transform == 'cvec':\n",
    "            coef_values = gs.best_estimator_.named_steps.lr.coef_  \n",
    "            coef_keys = gs.best_estimator_.named_steps.cvec.get_feature_names()\n",
    "            coef_dict = {k : v for (k,v) in zip(coef_keys,list(coef_values[0]))}\n",
    "        if transform == 'tvec':\n",
    "            coef_values = np.exp(gs.best_estimator_.named_steps.lr.coef_  )\n",
    "            coef_keys = gs.best_estimator_.named_steps.tvec.get_feature_names()\n",
    "            coef_dict = {k : v for (k,v) in zip(coef_keys,list(coef_values[0]))} \n",
    "    else:\n",
    "        coef_dict = None\n",
    "    \n",
    "    # STEP 7: Score Dictionary\n",
    "    score_values = [model,transform,\n",
    "              train_score,test_score,param_dict,coef_dict]\n",
    "    score_keys = ['Model','Transform',\n",
    "            'Train Score','Test Score','Parameters','Coefficients']\n",
    "    score_dict = dict(zip(score_keys,score_values))\n",
    "    \n",
    "    # STEP 8: Score DataFrame\n",
    "    data = {'Model': [model], 'Transform': [transform],\n",
    "            'Train Score': [train_score], 'Test Score': [test_score]}\n",
    "    df_new_row = pd.DataFrame(data)\n",
    "\n",
    "    # STEP 9: update scores csv with new model\n",
    "    df_old_scores = pd.read_csv('./data/all_scores.csv')\n",
    "    merge_scores = [df_old_scores, df_new_row]\n",
    "    df_all_scores = pd.concat(merge_scores, axis=0)\n",
    "    df_all_scores.to_csv('./data/all_scores.csv', index=False)\n",
    "    \n",
    "    # STEP 10: Return Score Dictionary\n",
    "    return df_new_row, score_dict, model"
   ]
  },
  {
   "cell_type": "markdown",
   "metadata": {},
   "source": [
    "## Run Models"
   ]
  },
  {
   "cell_type": "markdown",
   "metadata": {},
   "source": [
    "**Instantiate Model Score List**"
   ]
  },
  {
   "cell_type": "markdown",
   "metadata": {},
   "source": [
    "**Model 1**"
   ]
  },
  {
   "cell_type": "code",
   "execution_count": 9,
   "metadata": {},
   "outputs": [],
   "source": [
    "# Params 1\n",
    "params1 = {\n",
    "    'cvec__max_features' : [1000,5000,10000,20000],\n",
    "    'cvec__ngram_range'  : [(1,1),(1,3),(1,5)]\n",
    "}\n",
    "\n",
    "# Model 1\n",
    "model1 = nlp_model(X_train,X_test,y_train,y_test,'cvec','lr',params1)"
   ]
  },
  {
   "cell_type": "markdown",
   "metadata": {},
   "source": [
    "**Model 2**"
   ]
  },
  {
   "cell_type": "code",
   "execution_count": 10,
   "metadata": {},
   "outputs": [],
   "source": [
    "# Params 2\n",
    "params2 = {  \n",
    "    'tvec__max_features' : [1000,5000,10000],\n",
    "    'tvec__ngram_range'  : [(1,1),(1,2),(1,3)]\n",
    "}\n",
    "\n",
    "# Model 2\n",
    "model2 = nlp_model(X_train,X_test,y_train,y_test,'tvec','lr',params2)"
   ]
  },
  {
   "cell_type": "markdown",
   "metadata": {},
   "source": [
    "**Model 3**"
   ]
  },
  {
   "cell_type": "code",
   "execution_count": 11,
   "metadata": {},
   "outputs": [],
   "source": [
    "# Params 3\n",
    "params3 = {\n",
    "    'cvec__max_features' : [20_000],\n",
    "    'cvec__ngram_range'  : [(1,5)]\n",
    "}\n",
    "\n",
    "# Model 3\n",
    "model3 = nlp_model(X_train,X_test,y_train,y_test,'cvec','lr',params3)"
   ]
  },
  {
   "cell_type": "markdown",
   "metadata": {},
   "source": [
    "**Model 4**"
   ]
  },
  {
   "cell_type": "code",
   "execution_count": 12,
   "metadata": {},
   "outputs": [],
   "source": [
    "# Params 4\n",
    "params4 = {\n",
    "    'tvec__max_features' : [10000,15000],\n",
    "    'tvec__ngram_range'  : [(1,3),(1,4)]\n",
    "}\n",
    "\n",
    "model4 = nlp_model(X_train,X_test,y_train,y_test,'tvec','lr',params4)"
   ]
  },
  {
   "cell_type": "markdown",
   "metadata": {},
   "source": [
    "**Model 5**"
   ]
  },
  {
   "cell_type": "code",
   "execution_count": 13,
   "metadata": {},
   "outputs": [],
   "source": [
    "# Params 5\n",
    "params5 = {\n",
    "    'cvec__max_features' : [15000],\n",
    "    'cvec__ngram_range'  : [(1,3)]\n",
    "}\n",
    "\n",
    "# Model 5\n",
    "model5 = nlp_model(X_train,X_test,y_train,y_test,'cvec','lr',params5)"
   ]
  },
  {
   "cell_type": "markdown",
   "metadata": {},
   "source": [
    "**Model 6**"
   ]
  },
  {
   "cell_type": "code",
   "execution_count": 14,
   "metadata": {},
   "outputs": [],
   "source": [
    "# Params 6\n",
    "params6 = {\n",
    "    'cvec__max_features' : [15000,20000],\n",
    "    'cvec__ngram_range'  : [(1,3),(1,5)]\n",
    "}\n",
    "\n",
    "# Model 6\n",
    "model6 = nlp_model(X_train,X_test,y_train,y_test,'cvec','lr',params6)"
   ]
  },
  {
   "cell_type": "markdown",
   "metadata": {},
   "source": [
    "**Save to Scores List**"
   ]
  },
  {
   "cell_type": "code",
   "execution_count": 15,
   "metadata": {},
   "outputs": [
    {
     "data": {
      "text/html": [
       "<div>\n",
       "<style scoped>\n",
       "    .dataframe tbody tr th:only-of-type {\n",
       "        vertical-align: middle;\n",
       "    }\n",
       "\n",
       "    .dataframe tbody tr th {\n",
       "        vertical-align: top;\n",
       "    }\n",
       "\n",
       "    .dataframe thead th {\n",
       "        text-align: right;\n",
       "    }\n",
       "</style>\n",
       "<table border=\"1\" class=\"dataframe\">\n",
       "  <thead>\n",
       "    <tr style=\"text-align: right;\">\n",
       "      <th></th>\n",
       "      <th>Model</th>\n",
       "      <th>Transform</th>\n",
       "      <th>Train Score</th>\n",
       "      <th>Test Score</th>\n",
       "    </tr>\n",
       "  </thead>\n",
       "  <tbody>\n",
       "    <tr>\n",
       "      <th>0</th>\n",
       "      <td>lr</td>\n",
       "      <td>cvec</td>\n",
       "      <td>0.927339</td>\n",
       "      <td>0.906483</td>\n",
       "    </tr>\n",
       "  </tbody>\n",
       "</table>\n",
       "</div>"
      ],
      "text/plain": [
       "  Model Transform  Train Score  Test Score\n",
       "0    lr      cvec     0.927339    0.906483"
      ]
     },
     "execution_count": 15,
     "metadata": {},
     "output_type": "execute_result"
    }
   ],
   "source": [
    "model1"
   ]
  },
  {
   "cell_type": "code",
   "execution_count": 16,
   "metadata": {},
   "outputs": [
    {
     "data": {
      "text/html": [
       "<div>\n",
       "<style scoped>\n",
       "    .dataframe tbody tr th:only-of-type {\n",
       "        vertical-align: middle;\n",
       "    }\n",
       "\n",
       "    .dataframe tbody tr th {\n",
       "        vertical-align: top;\n",
       "    }\n",
       "\n",
       "    .dataframe thead th {\n",
       "        text-align: right;\n",
       "    }\n",
       "</style>\n",
       "<table border=\"1\" class=\"dataframe\">\n",
       "  <thead>\n",
       "    <tr style=\"text-align: right;\">\n",
       "      <th></th>\n",
       "      <th>Model</th>\n",
       "      <th>Transform</th>\n",
       "      <th>Train Score</th>\n",
       "      <th>Test Score</th>\n",
       "    </tr>\n",
       "  </thead>\n",
       "  <tbody>\n",
       "    <tr>\n",
       "      <th>0</th>\n",
       "      <td>lr</td>\n",
       "      <td>tvec</td>\n",
       "      <td>0.910987</td>\n",
       "      <td>0.903349</td>\n",
       "    </tr>\n",
       "  </tbody>\n",
       "</table>\n",
       "</div>"
      ],
      "text/plain": [
       "  Model Transform  Train Score  Test Score\n",
       "0    lr      tvec     0.910987    0.903349"
      ]
     },
     "execution_count": 16,
     "metadata": {},
     "output_type": "execute_result"
    }
   ],
   "source": [
    "model2"
   ]
  },
  {
   "cell_type": "code",
   "execution_count": 17,
   "metadata": {},
   "outputs": [
    {
     "data": {
      "text/html": [
       "<div>\n",
       "<style scoped>\n",
       "    .dataframe tbody tr th:only-of-type {\n",
       "        vertical-align: middle;\n",
       "    }\n",
       "\n",
       "    .dataframe tbody tr th {\n",
       "        vertical-align: top;\n",
       "    }\n",
       "\n",
       "    .dataframe thead th {\n",
       "        text-align: right;\n",
       "    }\n",
       "</style>\n",
       "<table border=\"1\" class=\"dataframe\">\n",
       "  <thead>\n",
       "    <tr style=\"text-align: right;\">\n",
       "      <th></th>\n",
       "      <th>Model</th>\n",
       "      <th>Transform</th>\n",
       "      <th>Train Score</th>\n",
       "      <th>Test Score</th>\n",
       "    </tr>\n",
       "  </thead>\n",
       "  <tbody>\n",
       "    <tr>\n",
       "      <th>0</th>\n",
       "      <td>lr</td>\n",
       "      <td>cvec</td>\n",
       "      <td>0.927339</td>\n",
       "      <td>0.906483</td>\n",
       "    </tr>\n",
       "  </tbody>\n",
       "</table>\n",
       "</div>"
      ],
      "text/plain": [
       "  Model Transform  Train Score  Test Score\n",
       "0    lr      cvec     0.927339    0.906483"
      ]
     },
     "execution_count": 17,
     "metadata": {},
     "output_type": "execute_result"
    }
   ],
   "source": [
    "model3"
   ]
  },
  {
   "cell_type": "code",
   "execution_count": 18,
   "metadata": {},
   "outputs": [
    {
     "data": {
      "text/html": [
       "<div>\n",
       "<style scoped>\n",
       "    .dataframe tbody tr th:only-of-type {\n",
       "        vertical-align: middle;\n",
       "    }\n",
       "\n",
       "    .dataframe tbody tr th {\n",
       "        vertical-align: top;\n",
       "    }\n",
       "\n",
       "    .dataframe thead th {\n",
       "        text-align: right;\n",
       "    }\n",
       "</style>\n",
       "<table border=\"1\" class=\"dataframe\">\n",
       "  <thead>\n",
       "    <tr style=\"text-align: right;\">\n",
       "      <th></th>\n",
       "      <th>Model</th>\n",
       "      <th>Transform</th>\n",
       "      <th>Train Score</th>\n",
       "      <th>Test Score</th>\n",
       "    </tr>\n",
       "  </thead>\n",
       "  <tbody>\n",
       "    <tr>\n",
       "      <th>0</th>\n",
       "      <td>lr</td>\n",
       "      <td>tvec</td>\n",
       "      <td>0.913101</td>\n",
       "      <td>0.903495</td>\n",
       "    </tr>\n",
       "  </tbody>\n",
       "</table>\n",
       "</div>"
      ],
      "text/plain": [
       "  Model Transform  Train Score  Test Score\n",
       "0    lr      tvec     0.913101    0.903495"
      ]
     },
     "execution_count": 18,
     "metadata": {},
     "output_type": "execute_result"
    }
   ],
   "source": [
    "model4"
   ]
  },
  {
   "cell_type": "code",
   "execution_count": 19,
   "metadata": {},
   "outputs": [
    {
     "data": {
      "text/html": [
       "<div>\n",
       "<style scoped>\n",
       "    .dataframe tbody tr th:only-of-type {\n",
       "        vertical-align: middle;\n",
       "    }\n",
       "\n",
       "    .dataframe tbody tr th {\n",
       "        vertical-align: top;\n",
       "    }\n",
       "\n",
       "    .dataframe thead th {\n",
       "        text-align: right;\n",
       "    }\n",
       "</style>\n",
       "<table border=\"1\" class=\"dataframe\">\n",
       "  <thead>\n",
       "    <tr style=\"text-align: right;\">\n",
       "      <th></th>\n",
       "      <th>Model</th>\n",
       "      <th>Transform</th>\n",
       "      <th>Train Score</th>\n",
       "      <th>Test Score</th>\n",
       "    </tr>\n",
       "  </thead>\n",
       "  <tbody>\n",
       "    <tr>\n",
       "      <th>0</th>\n",
       "      <td>lr</td>\n",
       "      <td>cvec</td>\n",
       "      <td>0.924764</td>\n",
       "      <td>0.906666</td>\n",
       "    </tr>\n",
       "  </tbody>\n",
       "</table>\n",
       "</div>"
      ],
      "text/plain": [
       "  Model Transform  Train Score  Test Score\n",
       "0    lr      cvec     0.924764    0.906666"
      ]
     },
     "execution_count": 19,
     "metadata": {},
     "output_type": "execute_result"
    }
   ],
   "source": [
    "model5"
   ]
  },
  {
   "cell_type": "code",
   "execution_count": 20,
   "metadata": {},
   "outputs": [
    {
     "data": {
      "text/html": [
       "<div>\n",
       "<style scoped>\n",
       "    .dataframe tbody tr th:only-of-type {\n",
       "        vertical-align: middle;\n",
       "    }\n",
       "\n",
       "    .dataframe tbody tr th {\n",
       "        vertical-align: top;\n",
       "    }\n",
       "\n",
       "    .dataframe thead th {\n",
       "        text-align: right;\n",
       "    }\n",
       "</style>\n",
       "<table border=\"1\" class=\"dataframe\">\n",
       "  <thead>\n",
       "    <tr style=\"text-align: right;\">\n",
       "      <th></th>\n",
       "      <th>Model</th>\n",
       "      <th>Transform</th>\n",
       "      <th>Train Score</th>\n",
       "      <th>Test Score</th>\n",
       "    </tr>\n",
       "  </thead>\n",
       "  <tbody>\n",
       "    <tr>\n",
       "      <th>0</th>\n",
       "      <td>lr</td>\n",
       "      <td>cvec</td>\n",
       "      <td>0.927339</td>\n",
       "      <td>0.906483</td>\n",
       "    </tr>\n",
       "  </tbody>\n",
       "</table>\n",
       "</div>"
      ],
      "text/plain": [
       "  Model Transform  Train Score  Test Score\n",
       "0    lr      cvec     0.927339    0.906483"
      ]
     },
     "execution_count": 20,
     "metadata": {},
     "output_type": "execute_result"
    }
   ],
   "source": [
    "model6"
   ]
  },
  {
   "cell_type": "markdown",
   "metadata": {},
   "source": [
    "**Visualizing Coefs and ROC**"
   ]
  },
  {
   "cell_type": "code",
   "execution_count": 43,
   "metadata": {},
   "outputs": [],
   "source": [
    "### BEST FIT\n",
    "\n",
    "# Params 5\n",
    "params5 = {\n",
    "    'cvec__max_features' : [15000],\n",
    "    'cvec__ngram_range'  : [(1,3)]\n",
    "}\n",
    "\n",
    "# Model 5\n",
    "model5, model5_scores, model5_self = nlp_model(X_train,X_test,y_train,y_test,'cvec','lr',params5)"
   ]
  },
  {
   "cell_type": "code",
   "execution_count": 39,
   "metadata": {},
   "outputs": [],
   "source": [
    "best_coefs = model5_scores['Coefficients']"
   ]
  },
  {
   "cell_type": "code",
   "execution_count": null,
   "metadata": {},
   "outputs": [],
   "source": [
    "y_preds = "
   ]
  }
 ],
 "metadata": {
  "kernelspec": {
   "display_name": "Python 3",
   "language": "python",
   "name": "python3"
  },
  "language_info": {
   "codemirror_mode": {
    "name": "ipython",
    "version": 3
   },
   "file_extension": ".py",
   "mimetype": "text/x-python",
   "name": "python",
   "nbconvert_exporter": "python",
   "pygments_lexer": "ipython3",
   "version": "3.7.6"
  }
 },
 "nbformat": 4,
 "nbformat_minor": 4
}
